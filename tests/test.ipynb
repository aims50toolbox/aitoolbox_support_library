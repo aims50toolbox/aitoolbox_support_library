{
 "cells": [
  {
   "cell_type": "code",
   "execution_count": 1,
   "metadata": {},
   "outputs": [],
   "source": [
    "import sys\n",
    "sys.path.insert(0, '../src')"
   ]
  },
  {
   "cell_type": "code",
   "execution_count": 11,
   "metadata": {},
   "outputs": [],
   "source": [
    "req = \"\"\"\n",
    "{\n",
    "    \"param\": \"test\",\n",
    "    \"test\": {\n",
    "        \"_type\": \"image/png\",\n",
    "        \"_data\": \"iVBORw0KGgoAAAANSUhEUgAAABQAAAAKCAIAAAA7N+mxAAABhGlDQ1BJQ0MgcHJvZmlsZQAAKJF9kT1Iw0AcxV8/RJEWBTsUcchQnSyKijhqFYpQIdQKrTqYXPoFTRqSFBdHwbXg4Mdi1cHFWVcHV0EQ/ABxdnBSdJES/5cUWsR4cNyPd/ced+8Af6PCVDM4DqiaZaSTCSGbWxW6XxFEP8IYQ1Ripj4niil4jq97+Ph6F+dZ3uf+HGElbzLAJxDPMt2wiDeIpzctnfM+cYSVJIX4nHjUoAsSP3JddvmNc9FhP8+MGJn0PHGEWCh2sNzBrGSoxFPEMUXVKN+fdVnhvMVZrdRY6578haG8trLMdZpDSGIRSxAhQEYNZVRgIU6rRoqJNO0nPPyDjl8kl0yuMhg5FlCFCsnxg//B727NwuSEmxRKAF0vtv0xDHTvAs26bX8f23bzBAg8A1da219tADOfpNfbWuwI6NsGLq7bmrwHXO4A0SddMiRHCtD0FwrA+xl9Uw4YuAV619zeWvs4fQAy1FXqBjg4BEaKlL3u8e6ezt7+PdPq7wd4FXKp+2ddwwAAAAlwSFlzAAAuIwAALiMBeKU/dgAAAAd0SU1FB+gEEA0vNzEjzCEAAAAZdEVYdENvbW1lbnQAQ3JlYXRlZCB3aXRoIEdJTVBXgQ4XAAAANUlEQVQoz2P8JSvLAANsjx8zEAJw9WyPHzMxkAt+ycqSr5mBgWFUM6maiYlbfDazPX5MnhEAjMMMrG1D8NUAAAAASUVORK5CYII=\"\n",
    "    }\n",
    "}\n",
    "\"\"\""
   ]
  },
  {
   "cell_type": "code",
   "execution_count": 12,
   "metadata": {},
   "outputs": [],
   "source": [
    "from aitoolbox.sources import RESTSources\n",
    "from base64 import b64decode\n",
    "import imageio\n",
    "import matplotlib.pyplot as plt"
   ]
  },
  {
   "cell_type": "code",
   "execution_count": 13,
   "metadata": {},
   "outputs": [],
   "source": [
    "src = RESTSources(req)"
   ]
  },
  {
   "cell_type": "code",
   "execution_count": 14,
   "metadata": {},
   "outputs": [
    {
     "data": {
      "text/plain": [
       "'test'"
      ]
     },
     "execution_count": 14,
     "metadata": {},
     "output_type": "execute_result"
    }
   ],
   "source": [
    "src.get(\"param\")"
   ]
  },
  {
   "cell_type": "code",
   "execution_count": 15,
   "metadata": {},
   "outputs": [
    {
     "data": {
      "text/plain": [
       "<matplotlib.image.AxesImage at 0x7f53c6d4fc10>"
      ]
     },
     "execution_count": 15,
     "metadata": {},
     "output_type": "execute_result"
    },
    {
     "data": {
      "image/png": "[encoded data removed]",
      "text/plain": [
       "<Figure size 640x480 with 1 Axes>"
      ]
     },
     "metadata": {},
     "output_type": "display_data"
    }
   ],
   "source": [
    "plt.imshow(src.get(\"test\"))"
   ]
  },
  {
   "cell_type": "code",
   "execution_count": null,
   "metadata": {},
   "outputs": [],
   "source": []
  }
 ],
 "metadata": {
  "kernelspec": {
   "display_name": ".venv",
   "language": "python",
   "name": "python3"
  },
  "language_info": {
   "codemirror_mode": {
    "name": "ipython",
    "version": 3
   },
   "file_extension": ".py",
   "mimetype": "text/x-python",
   "name": "python",
   "nbconvert_exporter": "python",
   "pygments_lexer": "ipython3",
   "version": "3.8.10"
  }
 },
 "nbformat": 4,
 "nbformat_minor": 2
}
